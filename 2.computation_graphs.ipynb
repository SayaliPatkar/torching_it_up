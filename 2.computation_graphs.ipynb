{
 "cells": [
  {
   "cell_type": "code",
   "execution_count": 1,
   "metadata": {},
   "outputs": [],
   "source": [
    "#Computation Graphs and Automatic Differentiation\n",
    "import torch\n",
    "import torch.autograd as autograd\n",
    "import torch.nn as nn\n",
    "import torch.nn.functional as F\n",
    "import torch.optim as optim"
   ]
  },
  {
   "cell_type": "code",
   "execution_count": 20,
   "metadata": {},
   "outputs": [
    {
     "name": "stdout",
     "output_type": "stream",
     "text": [
      "tensor([14., 25., 36.], grad_fn=<AddBackward0>)\n",
      "<AddBackward0 object at 0x000001188F263A88> \n",
      "\n",
      "tensor(75., grad_fn=<SumBackward0>)\n",
      "<SumBackward0 object at 0x000001188F25DD48>\n",
      "a grad tensor([10., 10., 10.])\n",
      "b grad tensor([1., 1., 1.])\n",
      "torch.Size([1, 3])\n",
      "torch.Size([3, 1])\n",
      "tensor([[32.]], grad_fn=<MmBackward>)\n",
      "<MmBackward object at 0x000001188F25DD48>\n",
      "tensor([[ 4.,  8., 12.],\n",
      "        [ 5., 10., 15.],\n",
      "        [ 6., 12., 18.]], grad_fn=<MmBackward>)\n",
      "<MmBackward object at 0x000001188F2C83C8>\n"
     ]
    }
   ],
   "source": [
    "# tracing your result, and how it came to be :: requires_grad=True\n",
    "\n",
    "# Tensor factory methods have a ``requires_grad`` flag\n",
    "a = torch.tensor([1., 2., 3], requires_grad=True)\n",
    "k = 10\n",
    "# With requires_grad=True, you can still do all the operations you previously\n",
    "# could\n",
    "b = torch.tensor([4., 5., 6], requires_grad=True)\n",
    "c = k*a + b\n",
    "print(c)\n",
    "print(c.grad_fn,  '\\n')\n",
    "\n",
    "# So Tensors know what created them. c knows that it wasn’t read in from a file, \n",
    "# it was the result of a multiplication or exponential or whatever. \n",
    "# And if you keep following c.grad_fn, you will find yourself at x and y.\n",
    "\n",
    "#going a bit deeper\n",
    "s = c.sum()\n",
    "print(s)\n",
    "print(s.grad_fn)\n",
    "s.backward()\n",
    "print('a grad',a.grad) # ds / da\n",
    "print('b grad',b.grad) # ds / db\n",
    "\n",
    "\n",
    "x = torch.tensor([[1., 2., 3.]], requires_grad=True)\n",
    "print(x.size())\n",
    "y = torch.tensor([[4.], [5.], [6.]], requires_grad=True)\n",
    "print(y.size())\n",
    "\n",
    "z = x .mm(y)\n",
    "print(z)\n",
    "# BUT z knows something extra.\n",
    "print(z.grad_fn)\n",
    "\n",
    "z1 = y .mm(x)\n",
    "print(z1)\n",
    "print(z1.grad_fn)\n",
    "\n"
   ]
  },
  {
   "cell_type": "code",
   "execution_count": 21,
   "metadata": {},
   "outputs": [
    {
     "name": "stdout",
     "output_type": "stream",
     "text": [
      "False False\n",
      "requires grad, not set :: None\n",
      "requires grad transferring with operation :: True <AddBackward0 object at 0x000001188F2B8C48>\n",
      "requires grad transferring with assignment :: <AddBackward0 object at 0x000001188F2B8C48>\n",
      "requires grad not set after detachment :: None\n"
     ]
    }
   ],
   "source": [
    "x = torch.randn(2, 2)\n",
    "y = torch.randn(2, 2)\n",
    "# By default, user created Tensors have ``requires_grad=False``\n",
    "print(x.requires_grad, y.requires_grad)\n",
    "z = x + y\n",
    "# So you can't backprop through z\n",
    "print('requires grad, not set ::',z.grad_fn)\n",
    "\n",
    "# ``.requires_grad_( ... )`` changes an existing Tensor's ``requires_grad``\n",
    "# flag in-place. The input flag defaults to ``True`` if not given.\n",
    "x = x.requires_grad_()\n",
    "y = y.requires_grad_()\n",
    "# z contains enough information to compute gradients, as we saw above\n",
    "z = x + y\n",
    "# If any input to an operation has ``requires_grad=True``, so will the output\n",
    "print('requires grad transferring with operation ::',z.requires_grad, z.grad_fn)\n",
    "\n",
    "\n",
    "new_z = z\n",
    "print('requires grad transferring with assignment ::', new_z.grad_fn)\n",
    "\n",
    "\n",
    "# Now z has the computation history that relates itself to x and y\n",
    "# Can we just take its values, and **detach** it from its history?\n",
    "new_z = z.detach()\n",
    "\n",
    "# ... does new_z have information to backprop to x and y?\n",
    "# NO!\n",
    "print('requires grad not set after detachment ::', new_z.grad_fn)\n",
    "# And how could it? ``z.detach()`` returns a tensor that shares the same storage\n",
    "# as ``z``, but with the computation history forgotten. It doesn't know anything\n",
    "# about how it was computed.\n",
    "# In essence, we have broken the Tensor away from its past history"
   ]
  },
  {
   "cell_type": "code",
   "execution_count": null,
   "metadata": {},
   "outputs": [],
   "source": []
  }
 ],
 "metadata": {
  "kernelspec": {
   "display_name": "torch_venv",
   "language": "python",
   "name": "torch_venv"
  },
  "language_info": {
   "codemirror_mode": {
    "name": "ipython",
    "version": 3
   },
   "file_extension": ".py",
   "mimetype": "text/x-python",
   "name": "python",
   "nbconvert_exporter": "python",
   "pygments_lexer": "ipython3",
   "version": "3.7.7"
  }
 },
 "nbformat": 4,
 "nbformat_minor": 4
}
