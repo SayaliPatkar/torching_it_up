{
 "cells": [
  {
   "cell_type": "code",
   "execution_count": 27,
   "metadata": {},
   "outputs": [],
   "source": [
    "import torch\n",
    "\n",
    "import numpy as np"
   ]
  },
  {
   "cell_type": "code",
   "execution_count": 28,
   "metadata": {},
   "outputs": [
    {
     "name": "stdout",
     "output_type": "stream",
     "text": [
      "Vector :: [1.0, 2.0, 3.0]\n",
      "1D tensor :: tensor([1., 2., 3.])\n",
      "Tensor atribites ::  torch.FloatTensor torch.float32 torch.Size([3]) \n",
      "\n",
      "MAtrix :: [[1, 2, 3, 4], [4, 5, 6, 7], [7, 8, 9, 10]]\n",
      "2D tensor :: tensor([[ 1,  2,  3,  4],\n",
      "        [ 4,  5,  6,  7],\n",
      "        [ 7,  8,  9, 10]])\n",
      "Tensor atribites ::  torch.LongTensor torch.int64 torch.Size([3, 4]) \n",
      "\n",
      "3D matrix :: [[[1.0, 2.0, 3.0], [3.0, 4.0, 5.0], [1.0, 2.0, 3.0], [3.0, 4.0, 5.0]], [[5.0, 6.0, 7.0], [7.0, 8.0, 9.0], [5.0, 6.0, 7.0], [7.0, 8.0, 9.0]]]\n",
      "3D tensor :: tensor([[[1., 2., 3.],\n",
      "         [3., 4., 5.],\n",
      "         [1., 2., 3.],\n",
      "         [3., 4., 5.]],\n",
      "\n",
      "        [[5., 6., 7.],\n",
      "         [7., 8., 9.],\n",
      "         [5., 6., 7.],\n",
      "         [7., 8., 9.]]])\n",
      "Tensor atribites ::  torch.FloatTensor torch.float32 torch.Size([2, 4, 3]) \n",
      "\n"
     ]
    }
   ],
   "source": [
    "# torch.tensor(data) creates a torch.Tensor object with the given data.\n",
    "#vector\n",
    "t1 = [1., 2., 3.]\n",
    "t1_tensor = torch.tensor(t1)\n",
    "print('Vector ::',t1)\n",
    "print('1D tensor ::',t1_tensor)\n",
    "print('Tensor atribites :: ',t1_tensor.type(), t1_tensor.dtype, t1_tensor.size(), '\\n')\n",
    "\n",
    "\n",
    "#matrix\n",
    "t2 = [[1, 2, 3, 4],[4, 5, 6, 7],[7, 8, 9, 10]]\n",
    "t2_tensor = torch.tensor(t2)\n",
    "print('MAtrix ::',t2)\n",
    "print('2D tensor ::',t2_tensor)\n",
    "print('Tensor atribites :: ',t2_tensor.type(), t2_tensor.dtype, t2_tensor.size(), '\\n')\n",
    "\n",
    "#3D\n",
    "t3 = [[[1., 2., 3.], [3., 4., 5.], [1., 2., 3.], [3., 4., 5.]],\n",
    "          [[5., 6., 7.], [7., 8., 9.], [5., 6., 7.], [7., 8., 9.]]]\n",
    "t3_tensor = torch.tensor(t3)\n",
    "print('3D matrix ::',t3)\n",
    "print('3D tensor ::',t3_tensor)\n",
    "print('Tensor atribites :: ',t3_tensor.type(), t3_tensor.dtype, t3_tensor.size(), '\\n')"
   ]
  },
  {
   "cell_type": "code",
   "execution_count": 29,
   "metadata": {},
   "outputs": [
    {
     "name": "stdout",
     "output_type": "stream",
     "text": [
      "tensor(1.)\n",
      "tensor([[5., 6., 7.],\n",
      "        [7., 8., 9.],\n",
      "        [5., 6., 7.],\n",
      "        [7., 8., 9.]])\n",
      "2.0\n",
      "tensor([3., 4., 5.])\n"
     ]
    }
   ],
   "source": [
    "# Getting components\n",
    "print(t1_tensor[0])\n",
    "print(t3_tensor[1])\n",
    "# getting as scalar\n",
    "print(t1_tensor[1].item())\n",
    "\n",
    "print(t3_tensor[0][3])"
   ]
  },
  {
   "cell_type": "code",
   "execution_count": 30,
   "metadata": {},
   "outputs": [
    {
     "name": "stdout",
     "output_type": "stream",
     "text": [
      "tensor([[[-1.6211, -1.2314,  1.4720, -1.3922, -0.4772],\n",
      "         [-1.5678,  0.0454, -1.4583, -1.2392,  0.1953],\n",
      "         [ 1.9901,  1.0162,  2.1431,  1.0185,  0.5529],\n",
      "         [ 0.9093, -0.5471,  1.2996, -0.2900,  0.6558]],\n",
      "\n",
      "        [[-1.7943, -0.7773,  1.2733,  0.0298, -0.3415],\n",
      "         [-0.4356,  0.5607,  0.2533, -0.3000,  0.0071],\n",
      "         [ 1.7957,  0.1510,  0.5954, -1.4007,  0.4925],\n",
      "         [-0.2614,  0.9615,  0.2604,  0.0302,  0.7600]],\n",
      "\n",
      "        [[-0.1305, -0.0196,  0.8607, -0.0823, -0.0611],\n",
      "         [ 1.8113, -0.1479,  0.7059,  0.5095, -0.9594],\n",
      "         [ 0.2024,  0.8024, -1.6641, -1.6694, -0.9706],\n",
      "         [-0.2952, -0.4026,  0.0812,  0.3668,  0.5682]]]) \n",
      "\n",
      "[ 0 -2 -4 -6 -8]\n",
      "Tensor atribites ::  torch.IntTensor torch.int32 torch.Size([5]) \n",
      "\n"
     ]
    }
   ],
   "source": [
    "# More ways to create tensors\n",
    "x = torch.randn((3, 4, 5))\n",
    "print(x, '\\n')\n",
    "\n",
    "n_arr = np.arange(0, -10, -2)\n",
    "print(n_arr)\n",
    "n_arr_tensor = torch.from_numpy(n_arr)\n",
    "print('Tensor atribites :: ',n_arr_tensor.type(), n_arr_tensor.dtype, n_arr_tensor.size(), '\\n')"
   ]
  },
  {
   "cell_type": "code",
   "execution_count": 31,
   "metadata": {},
   "outputs": [
    {
     "name": "stdout",
     "output_type": "stream",
     "text": [
      "tensor([[-0.0960,  0.2966,  0.6056, -0.7538,  0.3556],\n",
      "        [ 0.6688, -0.7586, -1.3654, -0.1393, -0.1203],\n",
      "        [-0.1810, -0.7859,  0.8916, -0.7233, -1.0431],\n",
      "        [-1.1571, -0.3016,  0.0730, -0.7563,  0.3740],\n",
      "        [-0.1125, -1.1935, -1.9079,  1.1569, -1.4142]])\n",
      "tensor([[-0.6979, -1.1499,  1.2982, -2.0633,  1.2955,  0.7786,  0.1135,  0.0259],\n",
      "        [-1.2525,  0.1157,  1.6845, -0.8904, -1.3664, -0.9345,  0.9926,  1.1517]])\n",
      "torch.Size([2, 8])\n"
     ]
    },
    {
     "ename": "RuntimeError",
     "evalue": "Sizes of tensors must match except in dimension 0. Got 5 and 3 in dimension 1",
     "output_type": "error",
     "traceback": [
      "\u001b[1;31m---------------------------------------------------------------------------\u001b[0m",
      "\u001b[1;31mRuntimeError\u001b[0m                              Traceback (most recent call last)",
      "\u001b[1;32m<ipython-input-31-dde9c6514069>\u001b[0m in \u001b[0;36m<module>\u001b[1;34m\u001b[0m\n\u001b[0;32m     14\u001b[0m \u001b[1;33m\u001b[0m\u001b[0m\n\u001b[0;32m     15\u001b[0m \u001b[1;31m# If the tensors are not compatible, torch will complain\u001b[0m\u001b[1;33m\u001b[0m\u001b[1;33m\u001b[0m\u001b[1;33m\u001b[0m\u001b[0m\n\u001b[1;32m---> 16\u001b[1;33m \u001b[0mtorch\u001b[0m\u001b[1;33m.\u001b[0m\u001b[0mcat\u001b[0m\u001b[1;33m(\u001b[0m\u001b[1;33m[\u001b[0m\u001b[0mx_1\u001b[0m\u001b[1;33m,\u001b[0m \u001b[0mx_2\u001b[0m\u001b[1;33m]\u001b[0m\u001b[1;33m)\u001b[0m\u001b[1;33m\u001b[0m\u001b[1;33m\u001b[0m\u001b[0m\n\u001b[0m",
      "\u001b[1;31mRuntimeError\u001b[0m: Sizes of tensors must match except in dimension 0. Got 5 and 3 in dimension 1"
     ]
    }
   ],
   "source": [
    "# By default, it concatenates along the first axis (concatenates rows)\n",
    "x_1 = torch.randn(2, 5)\n",
    "y_1 = torch.randn(3, 5)\n",
    "z_1 = torch.cat([x_1, y_1])\n",
    "print(z_1)\n",
    "\n",
    "# Concatenate columns:\n",
    "x_2 = torch.randn(2, 3)\n",
    "y_2 = torch.randn(2, 5)\n",
    "# second arg specifies which axis to concat along\n",
    "z_2 = torch.cat([x_2, y_2], 1)\n",
    "print(z_2)\n",
    "print(z_2.size())\n",
    "\n",
    "# If the tensors are not compatible, torch will complain\n",
    "torch.cat([x_1, x_2])"
   ]
  },
  {
   "cell_type": "code",
   "execution_count": 32,
   "metadata": {},
   "outputs": [
    {
     "name": "stdout",
     "output_type": "stream",
     "text": [
      "tensor([[[-0.0167, -0.8108, -0.9357,  0.3710],\n",
      "         [ 1.5269, -0.2448, -2.6997,  1.9397],\n",
      "         [ 0.1288, -0.5562, -0.2552,  1.2067]],\n",
      "\n",
      "        [[-0.6697, -1.2896, -1.4762, -1.0845],\n",
      "         [ 0.0307,  1.2059, -0.1073,  0.0818],\n",
      "         [ 1.3897, -0.1534, -1.7852,  0.0083]]])\n",
      "tensor([[-0.0167, -0.8108, -0.9357,  0.3710,  1.5269, -0.2448, -2.6997,  1.9397,\n",
      "          0.1288, -0.5562, -0.2552,  1.2067],\n",
      "        [-0.6697, -1.2896, -1.4762, -1.0845,  0.0307,  1.2059, -0.1073,  0.0818,\n",
      "          1.3897, -0.1534, -1.7852,  0.0083]])\n",
      "tensor([[-0.0167, -0.8108, -0.9357,  0.3710,  1.5269, -0.2448, -2.6997,  1.9397,\n",
      "          0.1288, -0.5562, -0.2552,  1.2067],\n",
      "        [-0.6697, -1.2896, -1.4762, -1.0845,  0.0307,  1.2059, -0.1073,  0.0818,\n",
      "          1.3897, -0.1534, -1.7852,  0.0083]])\n",
      "tensor([[-0.0167, -0.8108, -0.9357,  0.3710],\n",
      "        [ 1.5269, -0.2448, -2.6997,  1.9397],\n",
      "        [ 0.1288, -0.5562, -0.2552,  1.2067],\n",
      "        [-0.6697, -1.2896, -1.4762, -1.0845],\n",
      "        [ 0.0307,  1.2059, -0.1073,  0.0818],\n",
      "        [ 1.3897, -0.1534, -1.7852,  0.0083]])\n",
      "tensor([[-0.0167, -0.8108, -0.9357,  0.3710,  1.5269, -0.2448, -2.6997,  1.9397],\n",
      "        [ 0.1288, -0.5562, -0.2552,  1.2067, -0.6697, -1.2896, -1.4762, -1.0845],\n",
      "        [ 0.0307,  1.2059, -0.1073,  0.0818,  1.3897, -0.1534, -1.7852,  0.0083]])\n"
     ]
    }
   ],
   "source": [
    "# Reshaping\n",
    "x = torch.randn(2, 3, 4)\n",
    "print(x)\n",
    "print(x.view(2, 12))  # Reshape to 2 rows, 12 columns\n",
    "# Same as above.  If one of the dimensions is -1, its size can be inferred\n",
    "print(x.view(2, -1))\n",
    "\n",
    "print(x.view(6, -1))\n",
    "\n",
    "print(x.view(3, -1))"
   ]
  },
  {
   "cell_type": "code",
   "execution_count": null,
   "metadata": {},
   "outputs": [],
   "source": []
  }
 ],
 "metadata": {
  "kernelspec": {
   "display_name": "torch_venv",
   "language": "python",
   "name": "torch_venv"
  },
  "language_info": {
   "codemirror_mode": {
    "name": "ipython",
    "version": 3
   },
   "file_extension": ".py",
   "mimetype": "text/x-python",
   "name": "python",
   "nbconvert_exporter": "python",
   "pygments_lexer": "ipython3",
   "version": "3.7.7"
  }
 },
 "nbformat": 4,
 "nbformat_minor": 4
}
